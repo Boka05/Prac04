{
 "cells": [
  {
   "cell_type": "markdown",
   "metadata": {},
   "source": [
    "# Practical 8:"
   ]
  },
  {
   "cell_type": "markdown",
   "metadata": {},
   "source": [
    "## 1) Two fair coins are flipped. As a result of this, tails and heads runs occurred where a tail run is a consecutive occurrence of at least one head. Determine the probability function of number of tail runs."
   ]
  },
  {
   "cell_type": "code",
   "execution_count": 1,
   "metadata": {},
   "outputs": [
    {
     "name": "stdout",
     "output_type": "stream",
     "text": [
      "Probability Mass Function (PMF) of Tail Runs:\n",
      "P(Number of tail runs = 0) = 0.25\n",
      "P(Number of tail runs = 1) = 0.50\n",
      "P(Number of tail runs = 2) = 0.25\n"
     ]
    }
   ],
   "source": [
    "from collections import Counter\n",
    "\n",
    "# Define all possible outcomes of two fair coin flips\n",
    "outcomes = ['HH', 'HT', 'TH', 'TT']\n",
    "\n",
    "def count_tail_runs(sequence):\n",
    "    \"\"\"Counts the number of tail runs in a given sequence.\"\"\"\n",
    "    return sequence.count('T') if 'T' in sequence else 0\n",
    "\n",
    "# Count the number of tail runs for each outcome\n",
    "tail_runs = [count_tail_runs(outcome) for outcome in outcomes]\n",
    "\n",
    "# Compute the probability mass function (PMF)\n",
    "count_runs = Counter(tail_runs)\n",
    "total_outcomes = len(outcomes)\n",
    "pmf = {k: v / total_outcomes for k, v in count_runs.items()}\n",
    "\n",
    "# Print the probability function\n",
    "print(\"Probability Mass Function (PMF) of Tail Runs:\")\n",
    "for runs, prob in sorted(pmf.items()):\n",
    "    print(f\"P(Number of tail runs = {runs}) = {prob:.2f}\")"
   ]
  },
  {
   "cell_type": "markdown",
   "metadata": {},
   "source": [
    "## 2) The length of alike metals produced by a hardware store is approximated by a normal distribution model having a mean of 7 cm and a standard deviation of 0.35 cm. Find the probability that the length of a randomly chosen metal is between 5.36 and 6.14 cm?"
   ]
  },
  {
   "cell_type": "code",
   "execution_count": 2,
   "metadata": {},
   "outputs": [
    {
     "name": "stdout",
     "output_type": "stream",
     "text": [
      "The probability that the length of a randomly chosen metal is between 5.36 cm and 6.14 cm is 0.0070\n"
     ]
    }
   ],
   "source": [
    "from scipy.stats import norm\n",
    "\n",
    "# Given parameters\n",
    "mean = 7\n",
    "std_dev = 0.35\n",
    "x1 = 5.36\n",
    "x2 = 6.14\n",
    "\n",
    "# Compute probabilities\n",
    "p_x1 = norm.cdf(x1, mean, std_dev)\n",
    "p_x2 = norm.cdf(x2, mean, std_dev)\n",
    "\n",
    "# Compute the probability that X is between x1 and x2\n",
    "probability = p_x2 - p_x1\n",
    "\n",
    "print(f\"The probability that the length of a randomly chosen metal is between {x1} cm and {x2} cm is {probability:.4f}\")"
   ]
  },
  {
   "cell_type": "markdown",
   "metadata": {},
   "source": [
    "## 3) The speeds of a number of bicycles have a normal distribution model with a mean of 83 km/hr and a standard deviation of 9.4 km/hr. Find the probability that a bicycle picked at random is travelling at more than 95 km/hr?"
   ]
  },
  {
   "cell_type": "code",
   "execution_count": null,
   "metadata": {},
   "outputs": [
    {
     "name": "stdout",
     "output_type": "stream",
     "text": [
      "The probability that a bicycle is traveling at more than 95 km/hr is 0.1009\n"
     ]
    }
   ],
   "source": [
    "from scipy.stats import norm\n",
    "\n",
    "# Problem 3: Normal Distribution Calculation\n",
    "mean_speed = 83\n",
    "std_dev_speed = 9.4\n",
    "x = 95\n",
    "\n",
    "# Compute probability P(X > 95)\n",
    "p_x = 1 - norm.cdf(x, mean_speed, std_dev_speed)\n",
    "print(f\"The probability that a bicycle is traveling at more than 95 km/hr is {p_x:.4f}\")"
   ]
  },
  {
   "cell_type": "markdown",
   "metadata": {},
   "source": [
    "## 4) lf a dice is thrown twice, what is the probability of not getting a one on either throw?"
   ]
  },
  {
   "cell_type": "code",
   "execution_count": null,
   "metadata": {},
   "outputs": [
    {
     "name": "stdout",
     "output_type": "stream",
     "text": [
      "The probability of not getting a one on either throw is 0.6944\n"
     ]
    }
   ],
   "source": [
    "# Problem 4: Dice Roll Calculation\n",
    "prob_not_one = 5/6\n",
    "prob_both_not_one = prob_not_one ** 2\n",
    "print(f\"The probability of not getting a one on either throw is {prob_both_not_one:.4f}\")"
   ]
  },
  {
   "cell_type": "markdown",
   "metadata": {},
   "source": [
    "## 5) Two cards are drawn in succession from a pack of 52 cards, without replacement. What is the probability, that the first is a Queen and the second is a Jack of a different suit?"
   ]
  },
  {
   "cell_type": "code",
   "execution_count": 5,
   "metadata": {},
   "outputs": [
    {
     "name": "stdout",
     "output_type": "stream",
     "text": [
      "The probability that the first card is a Queen and the second is a Jack of a different suit is 0.0045\n"
     ]
    }
   ],
   "source": [
    "# Probability of drawing a Queen first\n",
    "p_queen = 4 / 52\n",
    "\n",
    "# Probability of drawing a Jack of a different suit second\n",
    "p_jack_diff_suit = 3 / 51\n",
    "\n",
    "# Total probability\n",
    "probability = p_queen * p_jack_diff_suit\n",
    "\n",
    "print(f\"The probability that the first card is a Queen and the second is a Jack of a different suit is {probability:.4f}\")"
   ]
  },
  {
   "cell_type": "markdown",
   "metadata": {},
   "source": [
    "## 6) A coin is tossed four times, if H = head and T = tail, what is the probability ofthe tosses coming up in the order HTHH?"
   ]
  },
  {
   "cell_type": "code",
   "execution_count": 12,
   "metadata": {},
   "outputs": [
    {
     "name": "stdout",
     "output_type": "stream",
     "text": [
      "The probability of the sequence HTHH occurring is: 0.0625\n"
     ]
    }
   ],
   "source": [
    "# Number of tosses\n",
    "n_tosses = 4\n",
    "\n",
    "# Probability of getting a specific sequence (H or T each has probability 1/2)\n",
    "probability = (1/2) ** n_tosses\n",
    "\n",
    "# Display result\n",
    "print(f\"The probability of the sequence HTHH occurring is: {probability:.4f}\")"
   ]
  },
  {
   "cell_type": "markdown",
   "metadata": {},
   "source": [
    "## 7) Determine the probability that a digit chosen at random from digits 1, 2, 3, ..... 13 will be even."
   ]
  },
  {
   "cell_type": "code",
   "execution_count": 4,
   "metadata": {},
   "outputs": [
    {
     "name": "stdout",
     "output_type": "stream",
     "text": [
      "Probability of choosing an even digit: 0.4615\n"
     ]
    }
   ],
   "source": [
    "even_digits = [num for num in range(1, 14) if num % 2 == 0]\n",
    "probability = len(even_digits) / 13\n",
    "print(f\"Probability of choosing an even digit: {probability:.4f}\")\n"
   ]
  },
  {
   "cell_type": "markdown",
   "metadata": {},
   "source": [
    "## 8) What is the probability of rolling a sum of 7 with two six-sided dice?"
   ]
  },
  {
   "cell_type": "code",
   "execution_count": 5,
   "metadata": {},
   "outputs": [
    {
     "name": "stdout",
     "output_type": "stream",
     "text": [
      "Probability of rolling a sum of 7: 0.1667\n"
     ]
    }
   ],
   "source": [
    "favorable_outcomes = [(a, b) for a in range(1, 7) for b in range(1, 7) if a + b == 7]\n",
    "probability = len(favorable_outcomes) / 36\n",
    "print(f\"Probability of rolling a sum of 7: {probability:.4f}\")"
   ]
  },
  {
   "cell_type": "markdown",
   "metadata": {},
   "source": [
    "## 9) In a game with two eight-sided dice, what is the probability of rolling a double (both dice showing the same number)?"
   ]
  },
  {
   "cell_type": "code",
   "execution_count": null,
   "metadata": {},
   "outputs": [
    {
     "name": "stdout",
     "output_type": "stream",
     "text": [
      "Probability of rolling a double: 0.1250\n"
     ]
    }
   ],
   "source": [
    "# Total possible outcomes with two eight-sided dice\n",
    "total_outcomes = 8 * 8  # 64 possible outcomes\n",
    "\n",
    "# Favorable outcomes (rolling doubles: 1-1, 2-2, ..., 8-8)\n",
    "favorable_outcomes = 8  # One for each number (1 to 8)\n",
    "\n",
    "# Probability calculation\n",
    "probability = favorable_outcomes / total_outcomes\n",
    "\n",
    "print(f\"Probability of rolling a double: {probability:.4f}\")"
   ]
  },
  {
   "cell_type": "markdown",
   "metadata": {},
   "source": [
    "## 10) lf a ten-sided die is rolled, what is the probability of rolling a prime number?"
   ]
  },
  {
   "cell_type": "code",
   "execution_count": 6,
   "metadata": {},
   "outputs": [
    {
     "name": "stdout",
     "output_type": "stream",
     "text": [
      "Probability of rolling a prime number: 0.4000\n"
     ]
    }
   ],
   "source": [
    "prime_numbers = [num for num in range(1, 11) if num in [2, 3, 5, 7]]\n",
    "probability = len(prime_numbers) / 10\n",
    "print(f\"Probability of rolling a prime number: {probability:.4f}\")"
   ]
  },
  {
   "cell_type": "markdown",
   "metadata": {},
   "source": [
    "# Practical 9:"
   ]
  },
  {
   "cell_type": "markdown",
   "metadata": {},
   "source": [
    "## Four Identical coins are tossed simultaneously and following outcome is obtained:\n",
    "\n",
    "| No. of Tails | Frequency |\n",
    "|--------------|-----------|\n",
    "|0             |8          |\n",
    "|1             |29         |\n",
    "|2             |40         |\n",
    "|3             |19         |\n",
    "|4             |4          |\n",
    "\n",
    "## Is there sufficient evidence to conclude bias at 5% level of significance"
   ]
  },
  {
   "cell_type": "code",
   "execution_count": null,
   "metadata": {},
   "outputs": [
    {
     "name": "stdout",
     "output_type": "stream",
     "text": [
      "Chi-Square Statistic: 3.5467\n",
      "P-value: 0.4708\n",
      "There is no sufficient evidence to conclude bias in the coin toss.\n"
     ]
    }
   ],
   "source": [
    "import scipy.stats as stats\n",
    "import numpy as np\n",
    "\n",
    "# Observed frequencies\n",
    "observed = np.array([8, 29, 40, 19, 4])\n",
    "\n",
    "# Total number of trials\n",
    "N = sum(observed)\n",
    "\n",
    "# Probabilities of getting 0 to 4 tails in 4 coin tosses (Binomial Distribution)\n",
    "p_values = [stats.binom.pmf(k, 4, 0.5) for k in range(5)]\n",
    "\n",
    "# Expected frequencies\n",
    "expected = np.array([p * N for p in p_values])\n",
    "\n",
    "# Perform Chi-Square Goodness of Fit Test\n",
    "chi2_stat, p_value = stats.chisquare(observed, expected)\n",
    "\n",
    "# Print results\n",
    "print(f\"Chi-Square Statistic: {chi2_stat:.4f}\")\n",
    "print(f\"P-value: {p_value:.4f}\")\n",
    "\n",
    "# Conclusion at 5% significance level\n",
    "alpha = 0.05\n",
    "if p_value < alpha:\n",
    "    print(\"There is sufficient evidence to conclude bias in the coin toss.\")\n",
    "else:\n",
    "    print(\"There is no sufficient evidence to conclude bias in the coin toss.\")"
   ]
  },
  {
   "cell_type": "markdown",
   "metadata": {},
   "source": [
    "## One-Way ANOVA\n",
    "|1|2|3|\n",
    "|-|-|-|\n",
    "|1|2|2|\n",
    "|2|4|3|\n",
    "|5|2|4|\n",
    "\n",
    "## Prove the Hypothesis with 5% level of significance"
   ]
  },
  {
   "cell_type": "code",
   "execution_count": null,
   "metadata": {},
   "outputs": [
    {
     "name": "stdout",
     "output_type": "stream",
     "text": [
      "F-statistic: 0.0500\n",
      "P-value: 0.9516\n",
      "Fail to reject H₀: No significant difference between the means of the groups.\n"
     ]
    }
   ],
   "source": [
    "import scipy.stats as stats\n",
    "\n",
    "# Data for the three groups\n",
    "group1 = [1, 2, 5]\n",
    "group2 = [2, 4, 2]\n",
    "group3 = [2, 3, 4]\n",
    "\n",
    "# Perform One-Way ANOVA\n",
    "f_statistic, p_value = stats.f_oneway(group1, group2, group3)\n",
    "\n",
    "# Print results\n",
    "print(f\"F-statistic: {f_statistic:.4f}\")\n",
    "print(f\"P-value: {p_value:.4f}\")\n",
    "\n",
    "# Conclusion at 5% significance level\n",
    "alpha = 0.05\n",
    "if p_value < alpha:\n",
    "    print(\"Reject H₀: There is a significant difference between the means of the groups.\")\n",
    "else:\n",
    "    print(\"Fail to reject H₀: No significant difference between the means of the groups.\")"
   ]
  },
  {
   "cell_type": "markdown",
   "metadata": {},
   "source": [
    "# Practical 11:"
   ]
  },
  {
   "cell_type": "code",
   "execution_count": 1,
   "metadata": {},
   "outputs": [
    {
     "data": {
      "image/png": "[encoded data removed]",
      "text/plain": [
       "<Figure size 1200x400 with 3 Axes>"
      ]
     },
     "metadata": {},
     "output_type": "display_data"
    }
   ],
   "source": [
    "import numpy as np\n",
    "import matplotlib.pyplot as plt\n",
    "import seaborn as sns\n",
    "from scipy.stats import poisson, binom, norm\n",
    "\n",
    "# Set Seaborn style\n",
    "sns.set(style=\"whitegrid\")\n",
    "\n",
    "# Poisson Distribution\n",
    "lambda_poisson = 4\n",
    "x_poisson = np.arange(0, 15)\n",
    "y_poisson = poisson.pmf(x_poisson, lambda_poisson)\n",
    "plt.figure(figsize=(12, 4))\n",
    "plt.subplot(1, 3, 1)\n",
    "plt.bar(x_poisson, y_poisson, color='blue', alpha=0.6)\n",
    "plt.title(\"Poisson Distribution (λ=4)\")\n",
    "plt.xlabel(\"x\")\n",
    "plt.ylabel(\"PMF\")\n",
    "\n",
    "# Binomial Distribution\n",
    "n_binom, p_binom = 10, 0.5\n",
    "x_binom = np.arange(0, 11)\n",
    "y_binom = binom.pmf(x_binom, n_binom, p_binom)\n",
    "plt.subplot(1, 3, 2)\n",
    "plt.bar(x_binom, y_binom, color='green', alpha=0.6)\n",
    "plt.title(\"Binomial Distribution (n=10, p=0.5)\")\n",
    "plt.xlabel(\"x\")\n",
    "plt.ylabel(\"PMF\")\n",
    "\n",
    "# Normal Distribution\n",
    "mu_norm, sigma_norm = 0, 1\n",
    "x_norm = np.linspace(-4, 4, 100)\n",
    "y_norm = norm.pdf(x_norm, mu_norm, sigma_norm)\n",
    "plt.subplot(1, 3, 3)\n",
    "plt.plot(x_norm, y_norm, color='red')\n",
    "plt.fill_between(x_norm, y_norm, alpha=0.3, color='red')\n",
    "plt.title(\"Normal Distribution (μ=0, σ=1)\")\n",
    "plt.xlabel(\"x\")\n",
    "plt.ylabel(\"PDF\")\n",
    "\n",
    "# Show plots\n",
    "plt.tight_layout()\n",
    "plt.show()"
   ]
  },
  {
   "cell_type": "code",
   "execution_count": 1,
   "metadata": {},
   "outputs": [],
   "source": [
    "a = 2"
   ]
  },
  {
   "cell_type": "code",
   "execution_count": null,
   "metadata": {},
   "outputs": [],
   "source": []
  }
 ],
 "metadata": {
  "kernelspec": {
   "display_name": "Python 3",
   "language": "python",
   "name": "python3"
  },
  "language_info": {
   "codemirror_mode": {
    "name": "ipython",
    "version": 3
   },
   "file_extension": ".py",
   "mimetype": "text/x-python",
   "name": "python",
   "nbconvert_exporter": "python",
   "pygments_lexer": "ipython3",
   "version": "3.12.0"
  }
 },
 "nbformat": 4,
 "nbformat_minor": 2
}
